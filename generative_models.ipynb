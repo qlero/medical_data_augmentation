{
 "cells": [
  {
   "cell_type": "markdown",
   "id": "d67e9318",
   "metadata": {},
   "source": [
    "# Generative Models as Data Augmentation in the Medical Domain\n",
    "\n",
    "## 1. Overview\n",
    "\n",
    "This project tries to evaluate the quality of generative models for data augmentation in the medical domain. \n",
    "\n",
    "Data augmentation will be relying on geometric data augmentation, (variational) auto-encoder (e.g. stacked denoising, denoising auto-encoder, etc.), and generative adversarial neural networks (e.g. GAN, DCGAN, Wasserstein GAN, etc.) for instance.\n",
    "\n",
    "We will restrict ourself to three kind of models to generate new data and evaluate the (possible) improvement with regards to a final classification score (i.e. comparing results between augmented and non-augmented training sets). \n",
    "\n",
    "### Datasets\n",
    "\n",
    "We will look into applying the above project on some (if not all) of the following datasets from the MedMNIST Classification Decathlon (https://medmnist.github.io/):\n",
    "\n",
    "| Dataset | Classification Type | Train size | Validation size | Test size |\n",
    "| :--- | :--- | :---: | :---: | :---: |  \n",
    "| PathMNIST Pathology | Multi-Class (9) | 89,996 | 10,004 | 7,180 |\n",
    "| DermaMNIST Dermatoscope | Multi-Class (7) | 7,007 | 1,003 | 2,005 |\n",
    "| OCTMNIST OCT | Multi-Class (4) | 97,477 | 10,832 | 1,000 |\n",
    "| PneumoniaMNIST Chest X-ray | Binary-Class (2) |4,708 | 524 | 624 |\n",
    "| BreastMNIST Breast Ultrasound | Binary-Class (2) | 546 | 78 | 156 |\n",
    "| OrganMNIST_Axial Abdominal CT | Multi-Class (11) | 34,581 | 6,491 | 17,778 |\n",
    "| OragnMNIST_Coronal Abdominal CT | Multi-Class (11) |13,000 | 2,392 | 8,268 |\n",
    "| OrganMNIST_Sagittal Abdominal CT | Multi-Class (11) | 13,940 | 2,452 | 8,829 |\n",
    "\n",
    "### Notes\n",
    "\n",
    "We will also provide a short report (in copy) explaining the choice of VAE, AE, and/or GAN models, outlining differences between datasets' results. We will also try to interprete and justify possible differences with regards to models, data specifications, visual features, and bibliography references used to support the choices made."
   ]
  },
  {
   "cell_type": "markdown",
   "id": "9deff385",
   "metadata": {},
   "source": [
    "## 2. Data Exploration\n",
    "\n",
    "### Source\n",
    "\n",
    "We will retrieve the above dataset from the following website:\n",
    "\n",
    "> [MedMNIST v2: A Large-Scale Lightweight Benchmark for 2D and 3D Biomedical Image Classification](https://medmnist.com/), Jiancheng Yang,Rui Shi,Donglai Wei,Zequan Liu,Lin Zhao,Bilian Ke,Hanspeter Pfister,Bingbing Ni\n",
    "\n",
    "By following the instructions on their [github](https://github.com/MedMNIST/MedMNIST), we can download their ready-made module with the following instruction:\n",
    "\n",
    "```sh\n",
    "pip install jupyter, ipywidgets, IProgress\n",
    "pip install medmnist\n",
    "```\n",
    "\n",
    "And load it in a python or ipython instance:\n",
    "\n",
    "```python\n",
    "import medmnist\n",
    "```"
   ]
  },
  {
   "cell_type": "code",
   "execution_count": null,
   "id": "ac3f3cfa",
   "metadata": {},
   "outputs": [],
   "source": []
  }
 ],
 "metadata": {
  "kernelspec": {
   "display_name": "Python [conda env:ML_base]",
   "language": "python",
   "name": "conda-env-ML_base-py"
  },
  "language_info": {
   "codemirror_mode": {
    "name": "ipython",
    "version": 3
   },
   "file_extension": ".py",
   "mimetype": "text/x-python",
   "name": "python",
   "nbconvert_exporter": "python",
   "pygments_lexer": "ipython3",
   "version": "3.9.7"
  }
 },
 "nbformat": 4,
 "nbformat_minor": 5
}
