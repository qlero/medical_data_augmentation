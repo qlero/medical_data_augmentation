{
 "cells": [
  {
   "cell_type": "markdown",
   "id": "d67e9318",
   "metadata": {},
   "source": [
    "# Generative Models as Data Augmentation in the Medical Domain\n",
    "\n",
    "## 1. Overview\n",
    "\n",
    "This project tries to evaluate the quality of generative models for data augmentation in the medical domain. \n",
    "\n",
    "Data augmentation will be relying on geometric data augmentation, (variational) auto-encoder (e.g. stacked denoising, denoising auto-encoder, etc.), and generative adversarial neural networks (e.g. GAN, DCGAN, Wasserstein GAN, etc.) for instance.\n",
    "\n",
    "We will restrict ourself to three kind of models to generate new data and evaluate the (possible) improvement with regards to a final classification score (i.e. comparing results between augmented and non-augmented training sets). \n",
    "\n",
    "### Datasets\n",
    "\n",
    "We will look into applying the above project on some (if not all) of the following datasets from the MedMNIST Classification Decathlon (https://medmnist.github.io/):\n",
    "\n",
    "| Dataset | Classification Type | Train size | Validation size | Test size |\n",
    "| :--- | :--- | :---: | :---: | :---: |  \n",
    "| PathMNIST Pathology | Multi-Class (9) | 89,996 | 10,004 | 7,180 |\n",
    "| DermaMNIST Dermatoscope | Multi-Class (7) | 7,007 | 1,003 | 2,005 |\n",
    "| OCTMNIST OCT | Multi-Class (4) | 97,477 | 10,832 | 1,000 |\n",
    "| PneumoniaMNIST Chest X-ray | Binary-Class (2) |4,708 | 524 | 624 |\n",
    "| BreastMNIST Breast Ultrasound | Binary-Class (2) | 546 | 78 | 156 |\n",
    "| OrganMNIST_Axial Abdominal CT | Multi-Class (11) | 34,581 | 6,491 | 17,778 |\n",
    "| OragnMNIST_Coronal Abdominal CT | Multi-Class (11) |13,000 | 2,392 | 8,268 |\n",
    "| OrganMNIST_Sagittal Abdominal CT | Multi-Class (11) | 13,940 | 2,452 | 8,829 |\n",
    "\n",
    "### Notes\n",
    "\n",
    "We will also provide a short report (in copy) explaining the choice of VAE, AE, and/or GAN models, outlining differences between datasets' results. We will also try to interprete and justify possible differences with regards to models, data specifications, visual features, and bibliography references used to support the choices made."
   ]
  },
  {
   "cell_type": "markdown",
   "id": "9deff385",
   "metadata": {},
   "source": [
    "## 2. Data and Library Imports\n",
    "\n",
    "### Source\n",
    "\n",
    "We will retrieve the above dataset from the following website:\n",
    "\n",
    "> [MedMNIST v2: A Large-Scale Lightweight Benchmark for 2D and 3D Biomedical Image Classification](https://medmnist.com/), Jiancheng Yang,Rui Shi,Donglai Wei,Zequan Liu,Lin Zhao,Bilian Ke,Hanspeter Pfister,Bingbing Ni\n",
    "\n",
    "By following the instructions on their [github](https://github.com/MedMNIST/MedMNIST), we can download their ready-made module with the following instruction:\n",
    "\n",
    "```sh\n",
    "pip install jupyter, ipywidgets, IProgress\n",
    "pip install medmnist\n",
    "```\n",
    "\n",
    "And load it in a python or ipython instance:\n",
    "\n",
    "```python\n",
    "import medmnist\n",
    "```\n",
    "\n",
    "### Library Imports"
   ]
  },
  {
   "cell_type": "code",
   "execution_count": null,
   "id": "34d94d7c",
   "metadata": {},
   "outputs": [],
   "source": [
    "from python_scripts.classifier import run_classifier_pipeline\n",
    "from python_scripts.conditional_vae import run_encoder_pipeline, one_hot\n",
    "from python_scripts.data import retrieve_flag_info, import_dataset\n",
    "from python_scripts.data import check_cuda_availability\n",
    "\n",
    "import warnings\n",
    "warnings.filterwarnings('ignore')"
   ]
  },
  {
   "cell_type": "markdown",
   "id": "9cf83125",
   "metadata": {},
   "source": [
    "### Checks CUDA availability"
   ]
  },
  {
   "cell_type": "code",
   "execution_count": null,
   "id": "f66e06fd",
   "metadata": {},
   "outputs": [],
   "source": [
    "check_cuda_availability()"
   ]
  },
  {
   "cell_type": "markdown",
   "id": "8fefd9e2",
   "metadata": {},
   "source": [
    "### Data Imports"
   ]
  },
  {
   "cell_type": "code",
   "execution_count": null,
   "id": "72552d2d",
   "metadata": {},
   "outputs": [],
   "source": [
    "data_flags = [\"pathmnist\", \"dermamnist\", \"octmnist\", \"pneumoniamnist\", \n",
    "              \"breastmnist\", \"organamnist\", \"organcmnist\", \"organsmnist\"]\n",
    "\n",
    "info_flags = {flag:retrieve_flag_info(flag) for flag in data_flags}"
   ]
  },
  {
   "cell_type": "code",
   "execution_count": null,
   "id": "94cd7b77",
   "metadata": {
    "scrolled": false
   },
   "outputs": [],
   "source": [
    "pathmnist = import_dataset(\"pathmnist\", info_flags)"
   ]
  },
  {
   "cell_type": "code",
   "execution_count": null,
   "id": "1ab86754",
   "metadata": {},
   "outputs": [],
   "source": [
    "dermamnist = import_dataset(\"dermamnist\", info_flags)"
   ]
  },
  {
   "cell_type": "code",
   "execution_count": null,
   "id": "7cb909a6",
   "metadata": {},
   "outputs": [],
   "source": [
    "octmnist = import_dataset(\"octmnist\", info_flags)"
   ]
  },
  {
   "cell_type": "code",
   "execution_count": null,
   "id": "e79cf9c6",
   "metadata": {},
   "outputs": [],
   "source": [
    "pneumoniamnist = import_dataset(\"pneumoniamnist\", info_flags)"
   ]
  },
  {
   "cell_type": "code",
   "execution_count": null,
   "id": "d8826bc5",
   "metadata": {},
   "outputs": [],
   "source": [
    "breastmnist = import_dataset(\"breastmnist\", info_flags)"
   ]
  },
  {
   "cell_type": "code",
   "execution_count": null,
   "id": "291ecd8d",
   "metadata": {},
   "outputs": [],
   "source": [
    "organamnist = import_dataset(\"organamnist\", info_flags)"
   ]
  },
  {
   "cell_type": "code",
   "execution_count": null,
   "id": "31097ad1",
   "metadata": {},
   "outputs": [],
   "source": [
    "organcmnist = import_dataset(\"organcmnist\", info_flags)"
   ]
  },
  {
   "cell_type": "code",
   "execution_count": null,
   "id": "c5b494cb",
   "metadata": {
    "scrolled": false
   },
   "outputs": [],
   "source": [
    "organsmnist = import_dataset(\"organsmnist\", info_flags)"
   ]
  },
  {
   "cell_type": "markdown",
   "id": "6503839b",
   "metadata": {},
   "source": [
    "## 3. Training a Classifier Without Data Augmentation\n",
    "\n",
    "### PathMNIST"
   ]
  },
  {
   "cell_type": "code",
   "execution_count": null,
   "id": "12d288e7",
   "metadata": {},
   "outputs": [],
   "source": [
    "clf_pathmnist = run_classifier_pipeline(\"pathmnist\", info_flags, pathmnist)"
   ]
  },
  {
   "cell_type": "markdown",
   "id": "c987b69e",
   "metadata": {},
   "source": [
    "### DermaMNIST"
   ]
  },
  {
   "cell_type": "code",
   "execution_count": null,
   "id": "8680094c",
   "metadata": {},
   "outputs": [],
   "source": [
    "clf_dermamnist = run_classifier_pipeline(\"dermamnist\", info_flags, dermamnist)"
   ]
  },
  {
   "cell_type": "markdown",
   "id": "97e58dff",
   "metadata": {},
   "source": [
    "### OctMNIST"
   ]
  },
  {
   "cell_type": "code",
   "execution_count": null,
   "id": "89a4ba86",
   "metadata": {},
   "outputs": [],
   "source": [
    "clf_octmnist = run_classifier_pipeline(\"octmnist\", info_flags, octmnist)"
   ]
  },
  {
   "cell_type": "markdown",
   "id": "699a1aaf",
   "metadata": {},
   "source": [
    "### PneumoniaMNIST"
   ]
  },
  {
   "cell_type": "code",
   "execution_count": null,
   "id": "7713d23a",
   "metadata": {},
   "outputs": [],
   "source": [
    "clf_pneumoniamnist = run_classifier_pipeline(\"pneumoniamnist\", info_flags, pneumoniamnist)"
   ]
  },
  {
   "cell_type": "markdown",
   "id": "35f94365",
   "metadata": {},
   "source": [
    "### BreastMNIST"
   ]
  },
  {
   "cell_type": "code",
   "execution_count": null,
   "id": "ef08695e",
   "metadata": {},
   "outputs": [],
   "source": [
    "clf_breastmnist = run_classifier_pipeline(\"breastmnist\", info_flags, breastmnist)"
   ]
  },
  {
   "cell_type": "markdown",
   "id": "e013a5c1",
   "metadata": {},
   "source": [
    "### OrganAMNIST"
   ]
  },
  {
   "cell_type": "code",
   "execution_count": null,
   "id": "9cf08697",
   "metadata": {},
   "outputs": [],
   "source": [
    "clf_organamnist = run_classifier_pipeline(\"organamnist\", info_flags, organamnist)"
   ]
  },
  {
   "cell_type": "markdown",
   "id": "9d7c16dd",
   "metadata": {},
   "source": [
    "### OrganCMNIST"
   ]
  },
  {
   "cell_type": "code",
   "execution_count": null,
   "id": "8c9e15f5",
   "metadata": {},
   "outputs": [],
   "source": [
    "clf_organcmnist = run_classifier_pipeline(\"organcmnist\", info_flags, organcmnist)"
   ]
  },
  {
   "cell_type": "markdown",
   "id": "6d710579",
   "metadata": {},
   "source": [
    "### OrganSMNIST"
   ]
  },
  {
   "cell_type": "code",
   "execution_count": null,
   "id": "06debe4b",
   "metadata": {},
   "outputs": [],
   "source": [
    "clf_organsmnist = run_classifier_pipeline(\"organsmnist\", info_flags, organsmnist)"
   ]
  },
  {
   "cell_type": "markdown",
   "id": "e9f30869",
   "metadata": {},
   "source": [
    "## 4. Training a Conditional Variational Autoencoder for Data Augmentation and Retraining the Classifier with an Augmented Dataset\n",
    "\n",
    "### PathMNIST\n",
    "\n",
    "#### Training the Conditional VAE"
   ]
  },
  {
   "cell_type": "code",
   "execution_count": null,
   "id": "aa57fd63",
   "metadata": {
    "scrolled": true
   },
   "outputs": [],
   "source": [
    "# Retrieves the dataset parameters\n",
    "n_classes  = len(info_flags[\"pathmnist\"][0][\"label\"])\n",
    "n_channels = info_flags[\"pathmnist\"][0][\"n_channels\"]\n",
    "\n",
    "# Declares the number of epochs and the model's latent dimensions\n",
    "latent_dims = 150\n",
    "epochs = 200\n",
    "\n",
    "# Retrieves the data loader\n",
    "train_loader = pathmnist[3]\n",
    "val_loader = pathmnist[5]\n",
    "test_loader = pathmnist[4]\n",
    "\n",
    "# Runs the conditional VAE\n",
    "model, training_losses, validation_losses, test_loss = run_encoder_pipeline(\n",
    "    train_loader, val_loader, test_loader,  \n",
    "    n_channels, n_classes, latent_dims, epochs, \n",
    "    \"pathmnist\", \n",
    "    output_intermediary_info=False\n",
    ")"
   ]
  },
  {
   "cell_type": "markdown",
   "id": "8ef05494",
   "metadata": {},
   "source": [
    "#### Generating an upgraded dataset"
   ]
  },
  {
   "cell_type": "code",
   "execution_count": null,
   "id": "4fb76f97",
   "metadata": {},
   "outputs": [],
   "source": []
  },
  {
   "cell_type": "markdown",
   "id": "291662d0",
   "metadata": {},
   "source": [
    "#### Retraining the classifier and assessing changes in performance"
   ]
  },
  {
   "cell_type": "code",
   "execution_count": null,
   "id": "6eb3a428",
   "metadata": {},
   "outputs": [],
   "source": []
  },
  {
   "cell_type": "markdown",
   "id": "bfbc253b",
   "metadata": {},
   "source": [
    "### DermaMNIST\n",
    "\n",
    "#### Training the Conditional VAE"
   ]
  },
  {
   "cell_type": "code",
   "execution_count": null,
   "id": "86065539",
   "metadata": {
    "scrolled": true
   },
   "outputs": [],
   "source": [
    "# Retrieves the dataset parameters\n",
    "n_classes  = len(info_flags[\"dermamnist\"][0][\"label\"])\n",
    "n_channels = info_flags[\"dermamnist\"][0][\"n_channels\"]\n",
    "\n",
    "# Declares the number of epochs and the model's latent dimensions\n",
    "latent_dims = 100\n",
    "epochs = 200\n",
    "\n",
    "# Retrieves the data loader\n",
    "train_loader = dermamnist[3]\n",
    "val_loader = dermamnist[5]\n",
    "test_loader = dermamnist[4]\n",
    "\n",
    "# Runs the conditional VAE\n",
    "model, training_losses, validation_losses, test_loss = run_encoder_pipeline(\n",
    "    train_loader, val_loader, test_loader,  \n",
    "    n_channels, n_classes, latent_dims, epochs, \n",
    "    \"dermamnist\", \n",
    "    output_intermediary_info=False\n",
    ")"
   ]
  },
  {
   "cell_type": "code",
   "execution_count": null,
   "id": "1c46031d",
   "metadata": {
    "scrolled": false
   },
   "outputs": [],
   "source": [
    "import torch\n",
    "import numpy as np\n",
    "import torch.utils.data as data_utils\n",
    "\n",
    "n_classes = 7\n",
    "n_generated_images = 1000\n",
    "\n",
    "labels = torch.Tensor(np.random.randint(0, n_classes, n_generated_images))\n",
    "images = model.sample(n_generated_images, \n",
    "                      one_hot(labels.int().to(torch.device(\"cuda\")), \n",
    "                              n_classes)\n",
    "                     )"
   ]
  },
  {
   "cell_type": "code",
   "execution_count": null,
   "id": "99482951",
   "metadata": {},
   "outputs": [],
   "source": [
    "for entry in dermamnist[0]:\n",
    "    test_i = torch.concat([test_i.cuda(), entry[0].view([1]+list(entry[0].shape)).cuda()])\n",
    "    test_l = torch.concat([test_l.cuda(), torch.Tensor(entry[1]).cuda()])"
   ]
  },
  {
   "cell_type": "code",
   "execution_count": null,
   "id": "12e4a4f6",
   "metadata": {},
   "outputs": [],
   "source": [
    "dataset = data_utils.TensorDataset(test_i, test_l)"
   ]
  },
  {
   "cell_type": "code",
   "execution_count": null,
   "id": "84a18657",
   "metadata": {},
   "outputs": [],
   "source": [
    "loader = data_utils.DataLoader(\n",
    "    dataset,\n",
    "    batch_size=2\n",
    ")"
   ]
  },
  {
   "cell_type": "code",
   "execution_count": null,
   "id": "d217e3cc",
   "metadata": {
    "scrolled": true
   },
   "outputs": [],
   "source": [
    "test_i = images\n",
    "test_l = labels.cpu()\n",
    "print(test_i.get_device(), test_l.get_device())"
   ]
  },
  {
   "cell_type": "code",
   "execution_count": null,
   "id": "2a2d6121",
   "metadata": {},
   "outputs": [],
   "source": [
    "print(images.shape, labels.shape)\n",
    "print(test_i.shape, test_l.shape)"
   ]
  },
  {
   "cell_type": "code",
   "execution_count": null,
   "id": "09694d5c",
   "metadata": {},
   "outputs": [],
   "source": [
    "dermamnist"
   ]
  },
  {
   "cell_type": "code",
   "execution_count": null,
   "id": "9a78e3bb",
   "metadata": {},
   "outputs": [],
   "source": [
    "img.detach().cpu().numpy().reshape([3, 28, 28]).T.shape"
   ]
  },
  {
   "cell_type": "code",
   "execution_count": null,
   "id": "a903350a",
   "metadata": {},
   "outputs": [],
   "source": [
    "\n",
    "def show_images(images) -> None:\n",
    "    n: int = len(images)\n",
    "    f = plt.figure(figsize=(0.5, 0.5))\n",
    "    for i in range(n):\n",
    "        # Debug, plot figure\n",
    "        f.add_subplot(1, n, i + 1)\n",
    "        plt.imshow(images[i])\n",
    "\n",
    "    plt.show(block=True)\n",
    "    \n",
    "show_images([img.detach().cpu().numpy().reshape([3, 28, 28]).T])"
   ]
  },
  {
   "cell_type": "code",
   "execution_count": null,
   "id": "9ebfc10b",
   "metadata": {},
   "outputs": [],
   "source": [
    "import numpy as np\n",
    "np.random.randint(0, 7, 10)"
   ]
  },
  {
   "cell_type": "markdown",
   "id": "d715d362",
   "metadata": {},
   "source": [
    "#### Generating an upgraded dataset"
   ]
  },
  {
   "cell_type": "code",
   "execution_count": null,
   "id": "67a5be5c",
   "metadata": {},
   "outputs": [],
   "source": []
  },
  {
   "cell_type": "markdown",
   "id": "17f06033",
   "metadata": {},
   "source": [
    "#### Retraining the classifier and assessing changes in performance"
   ]
  },
  {
   "cell_type": "code",
   "execution_count": null,
   "id": "07f8ff62",
   "metadata": {},
   "outputs": [],
   "source": []
  },
  {
   "cell_type": "markdown",
   "id": "15923563",
   "metadata": {},
   "source": [
    "### OctMNIST\n",
    "\n",
    "#### Training the Conditional VAE"
   ]
  },
  {
   "cell_type": "code",
   "execution_count": null,
   "id": "13b1e209",
   "metadata": {},
   "outputs": [],
   "source": [
    "# Retrieves the dataset parameters\n",
    "n_classes  = len(info_flags[\"octmnist\"][0][\"label\"])\n",
    "n_channels = info_flags[\"octmnist\"][0][\"n_channels\"]\n",
    "\n",
    "# Declares the number of epochs and the model's latent dimensions\n",
    "latent_dims = 100\n",
    "epochs = 200\n",
    "\n",
    "# Retrieves the data loader\n",
    "train_loader = octmnist[3]\n",
    "val_loader = octmnist[5]\n",
    "test_loader = octmnist[4]\n",
    "\n",
    "# Runs the conditional VAE\n",
    "model, training_losses, validation_losses, test_loss = run_encoder_pipeline(\n",
    "    train_loader, val_loader, test_loader,  \n",
    "    n_channels, n_classes, latent_dims, epochs, \n",
    "    \"octmnist\", \n",
    "    output_intermediary_info=False\n",
    ")"
   ]
  },
  {
   "cell_type": "markdown",
   "id": "ecea1b42",
   "metadata": {},
   "source": [
    "### PneumoniaMNIST\n",
    "\n",
    "#### Training the Conditional VAE"
   ]
  },
  {
   "cell_type": "code",
   "execution_count": null,
   "id": "4399735d",
   "metadata": {},
   "outputs": [],
   "source": [
    "# Retrieves the dataset parameters\n",
    "n_classes  = len(info_flags[\"pneumoniamnist\"][0][\"label\"])\n",
    "n_channels = info_flags[\"pneumoniamnist\"][0][\"n_channels\"]\n",
    "\n",
    "# Declares the number of epochs and the model's latent dimensions\n",
    "latent_dims = 150\n",
    "epochs = 200\n",
    "\n",
    "# Retrieves the data loader\n",
    "train_loader = pneumoniamnist[3]\n",
    "val_loader = pneumoniamnist[5]\n",
    "test_loader = pneumoniamnist[4]\n",
    "\n",
    "# Runs the conditional VAE\n",
    "model, training_losses, validation_losses, test_loss = run_encoder_pipeline(\n",
    "    train_loader, val_loader, test_loader,  \n",
    "    n_channels, n_classes, latent_dims, epochs, \n",
    "    \"pneumoniamnist\", \n",
    "    output_intermediary_info=False\n",
    ")"
   ]
  },
  {
   "cell_type": "markdown",
   "id": "a2996df8",
   "metadata": {},
   "source": [
    "#### Generating an upgraded dataset"
   ]
  },
  {
   "cell_type": "code",
   "execution_count": null,
   "id": "211527da",
   "metadata": {},
   "outputs": [],
   "source": []
  },
  {
   "cell_type": "markdown",
   "id": "1635f779",
   "metadata": {},
   "source": [
    "#### Retraining the classifier and assessing changes in performance"
   ]
  },
  {
   "cell_type": "code",
   "execution_count": null,
   "id": "0d750629",
   "metadata": {},
   "outputs": [],
   "source": []
  },
  {
   "cell_type": "markdown",
   "id": "0cdd63d3",
   "metadata": {},
   "source": [
    "### BreastMNIST\n",
    "\n",
    "#### Training the Conditional VAE"
   ]
  },
  {
   "cell_type": "code",
   "execution_count": null,
   "id": "a0fff631",
   "metadata": {},
   "outputs": [],
   "source": [
    "# Retrieves the dataset parameters\n",
    "n_classes  = len(info_flags[\"breastmnist\"][0][\"label\"])\n",
    "n_channels = info_flags[\"breastmnist\"][0][\"n_channels\"]\n",
    "\n",
    "# Declares the number of epochs and the model's latent dimensions\n",
    "latent_dims = 150\n",
    "epochs = 200\n",
    "\n",
    "# Retrieves the data loader\n",
    "train_loader = breastmnist[3]\n",
    "val_loader = breastmnist[5]\n",
    "test_loader = breastmnist[4]\n",
    "\n",
    "# Runs the conditional VAE\n",
    "model, training_losses, validation_losses, test_loss = run_encoder_pipeline(\n",
    "    train_loader, val_loader, test_loader,  \n",
    "    n_channels, n_classes, latent_dims, epochs, \n",
    "    \"breastmnist\", \n",
    "    output_intermediary_info=False\n",
    ")"
   ]
  },
  {
   "cell_type": "markdown",
   "id": "20ff156b",
   "metadata": {},
   "source": [
    "#### Generating an upgraded dataset"
   ]
  },
  {
   "cell_type": "code",
   "execution_count": null,
   "id": "ebee3cc9",
   "metadata": {},
   "outputs": [],
   "source": []
  },
  {
   "cell_type": "markdown",
   "id": "79e1cdec",
   "metadata": {},
   "source": [
    "#### Retraining the classifier and assessing changes in performance"
   ]
  },
  {
   "cell_type": "code",
   "execution_count": null,
   "id": "eefcb324",
   "metadata": {},
   "outputs": [],
   "source": []
  },
  {
   "cell_type": "markdown",
   "id": "99aef32d",
   "metadata": {},
   "source": [
    "### OrganAMNIST\n",
    "\n",
    "#### Training the Conditional VAE"
   ]
  },
  {
   "cell_type": "code",
   "execution_count": null,
   "id": "e8d5a25a",
   "metadata": {},
   "outputs": [],
   "source": [
    "# Retrieves the dataset parameters\n",
    "n_classes  = len(info_flags[\"organamnist\"][0][\"label\"])\n",
    "n_channels = info_flags[\"organamnist\"][0][\"n_channels\"]\n",
    "\n",
    "# Declares the number of epochs and the model's latent dimensions\n",
    "latent_dims = 150\n",
    "epochs = 200\n",
    "\n",
    "# Retrieves the data loader\n",
    "train_loader = organamnist[3]\n",
    "val_loader = organamnist[5]\n",
    "test_loader = organamnist[4]\n",
    "\n",
    "# Runs the conditional VAE\n",
    "model, training_losses, validation_losses, test_loss = run_encoder_pipeline(\n",
    "    train_loader, val_loader, test_loader,  \n",
    "    n_channels, n_classes, latent_dims, epochs, \n",
    "    \"organamnist\", \n",
    "    output_intermediary_info=False\n",
    ")"
   ]
  },
  {
   "cell_type": "markdown",
   "id": "daa29439",
   "metadata": {},
   "source": [
    "#### Generating an upgraded dataset"
   ]
  },
  {
   "cell_type": "code",
   "execution_count": null,
   "id": "81776a75",
   "metadata": {},
   "outputs": [],
   "source": []
  },
  {
   "cell_type": "markdown",
   "id": "6f5e0d5c",
   "metadata": {},
   "source": [
    "#### Retraining the classifier and assessing changes in performance"
   ]
  },
  {
   "cell_type": "code",
   "execution_count": null,
   "id": "ddcd9072",
   "metadata": {},
   "outputs": [],
   "source": []
  },
  {
   "cell_type": "markdown",
   "id": "a582cb5e",
   "metadata": {},
   "source": [
    "### OrganCMNIST\n",
    "\n",
    "#### Training the Conditional VAE"
   ]
  },
  {
   "cell_type": "code",
   "execution_count": null,
   "id": "991d2617",
   "metadata": {},
   "outputs": [],
   "source": [
    "# Retrieves the dataset parameters\n",
    "n_classes  = len(info_flags[\"organcmnist\"][0][\"label\"])\n",
    "n_channels = info_flags[\"organcmnist\"][0][\"n_channels\"]\n",
    "\n",
    "# Declares the number of epochs and the model's latent dimensions\n",
    "latent_dims = 150\n",
    "epochs = 200\n",
    "\n",
    "# Retrieves the data loader\n",
    "train_loader = organcmnist[3]\n",
    "val_loader = organcmnist[5]\n",
    "test_loader = organcmnist[4]\n",
    "\n",
    "# Runs the conditional VAE\n",
    "model, training_losses, validation_losses, test_loss = run_encoder_pipeline(\n",
    "    train_loader, val_loader, test_loader,  \n",
    "    n_channels, n_classes, latent_dims, epochs, \n",
    "    \"organcmnist\", \n",
    "    output_intermediary_info=False\n",
    ")"
   ]
  },
  {
   "cell_type": "markdown",
   "id": "decaa13c",
   "metadata": {},
   "source": [
    "#### Generating an upgraded dataset"
   ]
  },
  {
   "cell_type": "code",
   "execution_count": null,
   "id": "d7838429",
   "metadata": {},
   "outputs": [],
   "source": []
  },
  {
   "cell_type": "markdown",
   "id": "500f17b4",
   "metadata": {},
   "source": [
    "#### Retraining the classifier and assessing changes in performance"
   ]
  },
  {
   "cell_type": "code",
   "execution_count": null,
   "id": "5e93110b",
   "metadata": {},
   "outputs": [],
   "source": []
  },
  {
   "cell_type": "markdown",
   "id": "0f9e7f31",
   "metadata": {},
   "source": [
    "### OrganSMNIST\n",
    "\n",
    "#### Training the Conditional VAE"
   ]
  },
  {
   "cell_type": "code",
   "execution_count": null,
   "id": "da03378a",
   "metadata": {},
   "outputs": [],
   "source": [
    "# Retrieves the dataset parameters\n",
    "n_classes  = len(info_flags[\"organsmnist\"][0][\"label\"])\n",
    "n_channels = info_flags[\"organsmnist\"][0][\"n_channels\"]\n",
    "\n",
    "# Declares the number of epochs and the model's latent dimensions\n",
    "latent_dims = 150\n",
    "epochs = 200\n",
    "\n",
    "# Retrieves the data loader\n",
    "train_loader = organsmnist[3]\n",
    "val_loader = organsmnist[5]\n",
    "test_loader = organsmnist[4]\n",
    "\n",
    "# Runs the conditional VAE\n",
    "model, training_losses, validation_losses, test_loss = run_encoder_pipeline(\n",
    "    train_loader, val_loader, test_loader,  \n",
    "    n_channels, n_classes, latent_dims, epochs, \n",
    "    \"organsmnist\", \n",
    "    output_intermediary_info=False\n",
    ")"
   ]
  },
  {
   "cell_type": "markdown",
   "id": "81bb57a1",
   "metadata": {},
   "source": [
    "#### Generating an upgraded dataset"
   ]
  },
  {
   "cell_type": "code",
   "execution_count": null,
   "id": "8bf83396",
   "metadata": {},
   "outputs": [],
   "source": []
  },
  {
   "cell_type": "markdown",
   "id": "adceb2af",
   "metadata": {},
   "source": [
    "#### Retraining the classifier and assessing changes in performance"
   ]
  },
  {
   "cell_type": "code",
   "execution_count": null,
   "id": "d51ab3d1",
   "metadata": {},
   "outputs": [],
   "source": []
  },
  {
   "cell_type": "code",
   "execution_count": null,
   "id": "206e770a",
   "metadata": {},
   "outputs": [],
   "source": []
  },
  {
   "cell_type": "code",
   "execution_count": null,
   "id": "eccd1415",
   "metadata": {},
   "outputs": [],
   "source": []
  },
  {
   "cell_type": "code",
   "execution_count": null,
   "id": "cc32b004",
   "metadata": {},
   "outputs": [],
   "source": []
  },
  {
   "cell_type": "code",
   "execution_count": null,
   "id": "cc95eb3a",
   "metadata": {},
   "outputs": [],
   "source": []
  },
  {
   "cell_type": "code",
   "execution_count": null,
   "id": "2d54d936",
   "metadata": {},
   "outputs": [],
   "source": []
  },
  {
   "cell_type": "code",
   "execution_count": null,
   "id": "f7b82dcf",
   "metadata": {},
   "outputs": [],
   "source": []
  }
 ],
 "metadata": {
  "kernelspec": {
   "display_name": "Python [conda env:ML_base]",
   "language": "python",
   "name": "conda-env-ML_base-py"
  },
  "language_info": {
   "codemirror_mode": {
    "name": "ipython",
    "version": 3
   },
   "file_extension": ".py",
   "mimetype": "text/x-python",
   "name": "python",
   "nbconvert_exporter": "python",
   "pygments_lexer": "ipython3",
   "version": "3.9.7"
  }
 },
 "nbformat": 4,
 "nbformat_minor": 5
}
