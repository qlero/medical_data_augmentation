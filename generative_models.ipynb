{
 "cells": [
  {
   "cell_type": "markdown",
   "id": "d67e9318",
   "metadata": {},
   "source": [
    "# Generative Models as Data Augmentation in the Medical Domain\n",
    "\n",
    "## 1. Overview\n",
    "\n",
    "This project tries to evaluate the quality of generative models for data augmentation in the medical domain. \n",
    "\n",
    "Data augmentation will be relying on geometric data augmentation, (variational) auto-encoder (e.g. stacked denoising, denoising auto-encoder, etc.), and generative adversarial neural networks (e.g. GAN, DCGAN, Wasserstein GAN, etc.) for instance.\n",
    "\n",
    "We will restrict ourself to three kind of models to generate new data and evaluate the (possible) improvement with regards to a final classification score (i.e. comparing results between augmented and non-augmented training sets). \n",
    "\n",
    "### Datasets\n",
    "\n",
    "We will look into applying the above project on some (if not all) of the following datasets from the MedMNIST Classification Decathlon (https://medmnist.github.io/):\n",
    "\n",
    "| Dataset | Classification Type | Train size | Validation size | Test size |\n",
    "| :--- | :--- | :---: | :---: | :---: |  \n",
    "| PathMNIST Pathology | Multi-Class (9) | 89,996 | 10,004 | 7,180 |\n",
    "| DermaMNIST Dermatoscope | Multi-Class (7) | 7,007 | 1,003 | 2,005 |\n",
    "| OCTMNIST OCT | Multi-Class (4) | 97,477 | 10,832 | 1,000 |\n",
    "| PneumoniaMNIST Chest X-ray | Binary-Class (2) |4,708 | 524 | 624 |\n",
    "| BreastMNIST Breast Ultrasound | Binary-Class (2) | 546 | 78 | 156 |\n",
    "| OrganMNIST_Axial Abdominal CT | Multi-Class (11) | 34,581 | 6,491 | 17,778 |\n",
    "| OragnMNIST_Coronal Abdominal CT | Multi-Class (11) |13,000 | 2,392 | 8,268 |\n",
    "| OrganMNIST_Sagittal Abdominal CT | Multi-Class (11) | 13,940 | 2,452 | 8,829 |\n",
    "\n",
    "### Notes\n",
    "\n",
    "We will also provide a short report (in copy) explaining the choice of VAE, AE, and/or GAN models, outlining differences between datasets' results. We will also try to interprete and justify possible differences with regards to models, data specifications, visual features, and bibliography references used to support the choices made."
   ]
  },
  {
   "cell_type": "markdown",
   "id": "9deff385",
   "metadata": {},
   "source": [
    "## 2. Data and Library Imports\n",
    "\n",
    "### Source\n",
    "\n",
    "We will retrieve the above dataset from the following website:\n",
    "\n",
    "> [MedMNIST v2: A Large-Scale Lightweight Benchmark for 2D and 3D Biomedical Image Classification](https://medmnist.com/), Jiancheng Yang,Rui Shi,Donglai Wei,Zequan Liu,Lin Zhao,Bilian Ke,Hanspeter Pfister,Bingbing Ni\n",
    "\n",
    "By following the instructions on their [github](https://github.com/MedMNIST/MedMNIST), we can download their ready-made module with the following instruction:\n",
    "\n",
    "```sh\n",
    "pip install jupyter, ipywidgets, IProgress\n",
    "pip install medmnist\n",
    "```\n",
    "\n",
    "And load it in a python or ipython instance:\n",
    "\n",
    "```python\n",
    "import medmnist\n",
    "```\n",
    "\n",
    "### Library Imports"
   ]
  },
  {
   "cell_type": "code",
   "execution_count": null,
   "id": "34d94d7c",
   "metadata": {},
   "outputs": [],
   "source": [
    "from python_scripts.classifier import classification\n",
    "from python_scripts.data import retrieve_flag_info, import_dataset\n",
    "from python_scripts.data import check_cuda_availability\n",
    "\n",
    "import warnings\n",
    "warnings.filterwarnings('ignore')"
   ]
  },
  {
   "cell_type": "markdown",
   "id": "afbee6d9",
   "metadata": {},
   "source": [
    "### Checks CUDA availability"
   ]
  },
  {
   "cell_type": "code",
   "execution_count": null,
   "id": "8108b9ee",
   "metadata": {},
   "outputs": [],
   "source": [
    "check_cuda_availability()"
   ]
  },
  {
   "cell_type": "markdown",
   "id": "8fefd9e2",
   "metadata": {},
   "source": [
    "### Data Imports"
   ]
  },
  {
   "cell_type": "code",
   "execution_count": null,
   "id": "72552d2d",
   "metadata": {},
   "outputs": [],
   "source": [
    "data_flags = [\"pathmnist\", \"dermamnist\", \"octmnist\", \"pneumoniamnist\", \n",
    "              \"breastmnist\", \"organamnist\", \"organcmnist\", \"organsmnist\"]\n",
    "\n",
    "info_flags = {flag:retrieve_flag_info(flag) for flag in data_flags}"
   ]
  },
  {
   "cell_type": "code",
   "execution_count": null,
   "id": "94cd7b77",
   "metadata": {
    "scrolled": false
   },
   "outputs": [],
   "source": [
    "pathmnist = import_dataset(\"pathmnist\", info_flags)"
   ]
  },
  {
   "cell_type": "code",
   "execution_count": null,
   "id": "1ab86754",
   "metadata": {},
   "outputs": [],
   "source": [
    "dermamnist = import_dataset(\"dermamnist\", info_flags)"
   ]
  },
  {
   "cell_type": "code",
   "execution_count": null,
   "id": "7cb909a6",
   "metadata": {},
   "outputs": [],
   "source": [
    "octmnist = import_dataset(\"octmnist\", info_flags)"
   ]
  },
  {
   "cell_type": "code",
   "execution_count": null,
   "id": "e79cf9c6",
   "metadata": {},
   "outputs": [],
   "source": [
    "pneumoniamnist = import_dataset(\"pneumoniamnist\", info_flags)"
   ]
  },
  {
   "cell_type": "code",
   "execution_count": null,
   "id": "d8826bc5",
   "metadata": {},
   "outputs": [],
   "source": [
    "breastmnist = import_dataset(\"breastmnist\", info_flags)"
   ]
  },
  {
   "cell_type": "code",
   "execution_count": null,
   "id": "291ecd8d",
   "metadata": {},
   "outputs": [],
   "source": [
    "organamnist = import_dataset(\"organamnist\", info_flags)"
   ]
  },
  {
   "cell_type": "code",
   "execution_count": null,
   "id": "31097ad1",
   "metadata": {},
   "outputs": [],
   "source": [
    "organcmnist = import_dataset(\"organcmnist\", info_flags)"
   ]
  },
  {
   "cell_type": "code",
   "execution_count": null,
   "id": "c5b494cb",
   "metadata": {
    "scrolled": false
   },
   "outputs": [],
   "source": [
    "organsmnist = import_dataset(\"organsmnist\", info_flags)"
   ]
  },
  {
   "cell_type": "markdown",
   "id": "c84958a5",
   "metadata": {},
   "source": [
    "## 3. Training a Classifier Without Data Augmentation\n",
    "\n",
    "### PathMNIST"
   ]
  },
  {
   "cell_type": "code",
   "execution_count": null,
   "id": "12d288e7",
   "metadata": {},
   "outputs": [],
   "source": [
    "clf_pathmnist = run_classifier_pipeline(\n",
    "    \"pathmnist\", info_flags, pathmnist)"
   ]
  },
  {
   "cell_type": "markdown",
   "id": "4dab229b",
   "metadata": {},
   "source": [
    "### DermaMNIST"
   ]
  },
  {
   "cell_type": "code",
   "execution_count": null,
   "id": "586b5431",
   "metadata": {},
   "outputs": [],
   "source": [
    "clf_dermamnist = run_classifier_pipeline(\n",
    "    \"dermamnist\", info_flags, dermamnist)"
   ]
  },
  {
   "cell_type": "markdown",
   "id": "22e3fcaa",
   "metadata": {},
   "source": [
    "### OctMNIST"
   ]
  },
  {
   "cell_type": "code",
   "execution_count": null,
   "id": "dabf6c83",
   "metadata": {},
   "outputs": [],
   "source": [
    "clf_octmnist = run_classifier_pipeline(\n",
    "    \"octmnist\", info_flags, octmnist)"
   ]
  },
  {
   "cell_type": "markdown",
   "id": "4da2c2d9",
   "metadata": {},
   "source": [
    "### PneumoniaMNIST"
   ]
  },
  {
   "cell_type": "code",
   "execution_count": null,
   "id": "760eceb2",
   "metadata": {},
   "outputs": [],
   "source": [
    "clf_pneumoniamnist = run_classifier_pipeline(\n",
    "    \"pneumoniamnist\", info_flags, pneumoniamnist)"
   ]
  },
  {
   "cell_type": "markdown",
   "id": "223c6d1a",
   "metadata": {},
   "source": [
    "### BreastMNIST"
   ]
  },
  {
   "cell_type": "code",
   "execution_count": null,
   "id": "c34d11bd",
   "metadata": {},
   "outputs": [],
   "source": [
    "clf_breastmnist = run_classifier_pipeline(\n",
    "    \"breastmnist\", info_flags, breastmnist)"
   ]
  },
  {
   "cell_type": "markdown",
   "id": "dfcb462e",
   "metadata": {},
   "source": [
    "### OrganAMNIST"
   ]
  },
  {
   "cell_type": "code",
   "execution_count": null,
   "id": "c0465949",
   "metadata": {},
   "outputs": [],
   "source": [
    "clf_organamnist = run_classifier_pipeline(\n",
    "    \"organamnist\", info_flags, organamnist)"
   ]
  },
  {
   "cell_type": "markdown",
   "id": "d216d3f9",
   "metadata": {},
   "source": [
    "### OrganCMNIST"
   ]
  },
  {
   "cell_type": "code",
   "execution_count": null,
   "id": "2d7a0d82",
   "metadata": {},
   "outputs": [],
   "source": [
    "clf_organcmnist = run_classifier_pipeline(\n",
    "    \"organcmnist\", info_flags, organcmnist)"
   ]
  },
  {
   "cell_type": "markdown",
   "id": "2cce33de",
   "metadata": {},
   "source": [
    "### OrganSMNIST"
   ]
  },
  {
   "cell_type": "code",
   "execution_count": null,
   "id": "29547d7e",
   "metadata": {},
   "outputs": [],
   "source": [
    "clf_organsmnist = run_classifier_pipeline(\n",
    "    \"organsmnist\", info_flags, organsmnist)"
   ]
  },
  {
   "cell_type": "code",
   "execution_count": null,
   "id": "c25407cb",
   "metadata": {},
   "outputs": [],
   "source": []
  }
 ],
 "metadata": {
  "kernelspec": {
   "display_name": "Python [conda env:ML_base]",
   "language": "python",
   "name": "conda-env-ML_base-py"
  },
  "language_info": {
   "codemirror_mode": {
    "name": "ipython",
    "version": 3
   },
   "file_extension": ".py",
   "mimetype": "text/x-python",
   "name": "python",
   "nbconvert_exporter": "python",
   "pygments_lexer": "ipython3",
   "version": "3.9.7"
  }
 },
 "nbformat": 4,
 "nbformat_minor": 5
}
