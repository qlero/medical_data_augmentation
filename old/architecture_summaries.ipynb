{
 "cells": [
  {
   "cell_type": "code",
   "execution_count": 93,
   "id": "48e8eb5e",
   "metadata": {},
   "outputs": [],
   "source": [
    "from python_scripts.variational_autoencoders import ConditionalVAE, JointVAE\n",
    "from torchfusion.gan.applications import StandardGenerator, StandardProjectionDiscriminator\n",
    "from torchsummary import summary"
   ]
  },
  {
   "cell_type": "code",
   "execution_count": 84,
   "id": "882b9dfe",
   "metadata": {},
   "outputs": [],
   "source": [
    "n_classes = 9\n",
    "n_channels = 3\n",
    "latent_dims = 100\n",
    "categorical_dims = 10"
   ]
  },
  {
   "cell_type": "code",
   "execution_count": 85,
   "id": "cda3f3b8",
   "metadata": {},
   "outputs": [],
   "source": [
    "cVAE = ConditionalVAE(n_channels, n_classes, latent_dims)\n",
    "jVAE = JointVAE(n_channels, latent_dims, categorical_dims)"
   ]
  },
  {
   "cell_type": "markdown",
   "id": "c7f28c1d",
   "metadata": {},
   "source": [
    "### Conditional VAE architecture"
   ]
  },
  {
   "cell_type": "code",
   "execution_count": 86,
   "id": "e589be66",
   "metadata": {},
   "outputs": [
    {
     "name": "stdout",
     "output_type": "stream",
     "text": [
      "----------------------------------------------------------------\n",
      "        Layer (type)               Output Shape         Param #\n",
      "================================================================\n",
      "            Conv2d-1           [-1, 32, 14, 14]           1,184\n",
      "       BatchNorm2d-2           [-1, 32, 14, 14]              64\n",
      "         LeakyReLU-3           [-1, 32, 14, 14]               0\n",
      "            Conv2d-4             [-1, 64, 7, 7]          18,496\n",
      "       BatchNorm2d-5             [-1, 64, 7, 7]             128\n",
      "         LeakyReLU-6             [-1, 64, 7, 7]               0\n",
      "            Conv2d-7            [-1, 128, 4, 4]          73,856\n",
      "       BatchNorm2d-8            [-1, 128, 4, 4]             256\n",
      "         LeakyReLU-9            [-1, 128, 4, 4]               0\n",
      "           Conv2d-10            [-1, 256, 2, 2]         295,168\n",
      "      BatchNorm2d-11            [-1, 256, 2, 2]             512\n",
      "        LeakyReLU-12            [-1, 256, 2, 2]               0\n",
      "           Conv2d-13            [-1, 512, 1, 1]       1,180,160\n",
      "      BatchNorm2d-14            [-1, 512, 1, 1]           1,024\n",
      "        LeakyReLU-15            [-1, 512, 1, 1]               0\n",
      "================================================================\n",
      "Total params: 1,570,848\n",
      "Trainable params: 1,570,848\n",
      "Non-trainable params: 0\n",
      "----------------------------------------------------------------\n",
      "Input size (MB): 0.01\n",
      "Forward/backward pass size (MB): 0.30\n",
      "Params size (MB): 5.99\n",
      "Estimated Total Size (MB): 6.30\n",
      "----------------------------------------------------------------\n"
     ]
    }
   ],
   "source": [
    "summary(cVAE.encoder.cuda(), (4, 28, 28))"
   ]
  },
  {
   "cell_type": "code",
   "execution_count": 87,
   "id": "04e8bca5",
   "metadata": {
    "scrolled": false
   },
   "outputs": [
    {
     "name": "stdout",
     "output_type": "stream",
     "text": [
      "Decoder input layer:\n",
      " Linear(in_features=109, out_features=2048, bias=True)\n",
      "\n",
      "Decoder hidden layers: \n",
      "----------------------------------------------------------------\n",
      "        Layer (type)               Output Shape         Param #\n",
      "================================================================\n",
      "   ConvTranspose2d-1            [-1, 256, 4, 4]       1,179,904\n",
      "       BatchNorm2d-2            [-1, 256, 4, 4]             512\n",
      "         LeakyReLU-3            [-1, 256, 4, 4]               0\n",
      "   ConvTranspose2d-4            [-1, 128, 8, 8]         295,040\n",
      "       BatchNorm2d-5            [-1, 128, 8, 8]             256\n",
      "         LeakyReLU-6            [-1, 128, 8, 8]               0\n",
      "   ConvTranspose2d-7           [-1, 64, 16, 16]          73,792\n",
      "       BatchNorm2d-8           [-1, 64, 16, 16]             128\n",
      "         LeakyReLU-9           [-1, 64, 16, 16]               0\n",
      "  ConvTranspose2d-10           [-1, 32, 32, 32]          18,464\n",
      "      BatchNorm2d-11           [-1, 32, 32, 32]              64\n",
      "        LeakyReLU-12           [-1, 32, 32, 32]               0\n",
      "================================================================\n",
      "Total params: 1,568,160\n",
      "Trainable params: 1,568,160\n",
      "Non-trainable params: 0\n",
      "----------------------------------------------------------------\n",
      "Input size (MB): 0.01\n",
      "Forward/backward pass size (MB): 1.41\n",
      "Params size (MB): 5.98\n",
      "Estimated Total Size (MB): 7.40\n",
      "----------------------------------------------------------------\n",
      "\n",
      "Decoder output layer:\n",
      "\n",
      "----------------------------------------------------------------\n",
      "        Layer (type)               Output Shape         Param #\n",
      "================================================================\n",
      "   ConvTranspose2d-1           [-1, 32, 61, 61]           9,248\n",
      "       BatchNorm2d-2           [-1, 32, 61, 61]              64\n",
      "         LeakyReLU-3           [-1, 32, 61, 61]               0\n",
      "            Conv2d-4           [-1, 32, 30, 30]           9,248\n",
      "       BatchNorm2d-5           [-1, 32, 30, 30]              64\n",
      "         LeakyReLU-6           [-1, 32, 30, 30]               0\n",
      "            Conv2d-7            [-1, 3, 28, 28]             867\n",
      "              Tanh-8            [-1, 3, 28, 28]               0\n",
      "================================================================\n",
      "Total params: 19,491\n",
      "Trainable params: 19,491\n",
      "Non-trainable params: 0\n",
      "----------------------------------------------------------------\n",
      "Input size (MB): 0.12\n",
      "Forward/backward pass size (MB): 3.42\n",
      "Params size (MB): 0.07\n",
      "Estimated Total Size (MB): 3.62\n",
      "----------------------------------------------------------------\n"
     ]
    }
   ],
   "source": [
    "print(\"Decoder input layer:\\n\", cVAE.decoder_input_layer)\n",
    "print(\"\\nDecoder hidden layers: \")\n",
    "summary(cVAE.cuda().decoder, (512, 2, 2))\n",
    "print(\"\\nDecoder output layer:\\n\")\n",
    "summary(cVAE.decoder_output_layer, (32, 32, 32))"
   ]
  },
  {
   "cell_type": "markdown",
   "id": "2b431863",
   "metadata": {},
   "source": [
    "### Joint VAE architecture"
   ]
  },
  {
   "cell_type": "code",
   "execution_count": 92,
   "id": "bb164f29",
   "metadata": {
    "scrolled": false
   },
   "outputs": [
    {
     "name": "stdout",
     "output_type": "stream",
     "text": [
      "----------------------------------------------------------------\n",
      "        Layer (type)               Output Shape         Param #\n",
      "================================================================\n",
      "            Conv2d-1           [-1, 32, 14, 14]             896\n",
      "       BatchNorm2d-2           [-1, 32, 14, 14]              64\n",
      "         LeakyReLU-3           [-1, 32, 14, 14]               0\n",
      "            Conv2d-4             [-1, 64, 7, 7]          18,496\n",
      "       BatchNorm2d-5             [-1, 64, 7, 7]             128\n",
      "         LeakyReLU-6             [-1, 64, 7, 7]               0\n",
      "            Conv2d-7            [-1, 128, 4, 4]          73,856\n",
      "       BatchNorm2d-8            [-1, 128, 4, 4]             256\n",
      "         LeakyReLU-9            [-1, 128, 4, 4]               0\n",
      "           Conv2d-10            [-1, 256, 2, 2]         295,168\n",
      "      BatchNorm2d-11            [-1, 256, 2, 2]             512\n",
      "        LeakyReLU-12            [-1, 256, 2, 2]               0\n",
      "           Conv2d-13            [-1, 512, 1, 1]       1,180,160\n",
      "      BatchNorm2d-14            [-1, 512, 1, 1]           1,024\n",
      "        LeakyReLU-15            [-1, 512, 1, 1]               0\n",
      "================================================================\n",
      "Total params: 1,570,560\n",
      "Trainable params: 1,570,560\n",
      "Non-trainable params: 0\n",
      "----------------------------------------------------------------\n",
      "Input size (MB): 0.01\n",
      "Forward/backward pass size (MB): 0.30\n",
      "Params size (MB): 5.99\n",
      "Estimated Total Size (MB): 6.30\n",
      "----------------------------------------------------------------\n"
     ]
    }
   ],
   "source": [
    "summary(jVAE.encoder.cuda(), (3, 28, 28))"
   ]
  },
  {
   "cell_type": "code",
   "execution_count": 91,
   "id": "3b82d84d",
   "metadata": {
    "scrolled": false
   },
   "outputs": [
    {
     "name": "stdout",
     "output_type": "stream",
     "text": [
      "Decoder input layer:\n",
      " Linear(in_features=110, out_features=2048, bias=True)\n",
      "\n",
      "Decoder hidden layers: \n",
      "----------------------------------------------------------------\n",
      "        Layer (type)               Output Shape         Param #\n",
      "================================================================\n",
      "   ConvTranspose2d-1            [-1, 256, 4, 4]       1,179,904\n",
      "       BatchNorm2d-2            [-1, 256, 4, 4]             512\n",
      "         LeakyReLU-3            [-1, 256, 4, 4]               0\n",
      "   ConvTranspose2d-4            [-1, 128, 8, 8]         295,040\n",
      "       BatchNorm2d-5            [-1, 128, 8, 8]             256\n",
      "         LeakyReLU-6            [-1, 128, 8, 8]               0\n",
      "   ConvTranspose2d-7           [-1, 64, 16, 16]          73,792\n",
      "       BatchNorm2d-8           [-1, 64, 16, 16]             128\n",
      "         LeakyReLU-9           [-1, 64, 16, 16]               0\n",
      "  ConvTranspose2d-10           [-1, 32, 32, 32]          18,464\n",
      "      BatchNorm2d-11           [-1, 32, 32, 32]              64\n",
      "        LeakyReLU-12           [-1, 32, 32, 32]               0\n",
      "================================================================\n",
      "Total params: 1,568,160\n",
      "Trainable params: 1,568,160\n",
      "Non-trainable params: 0\n",
      "----------------------------------------------------------------\n",
      "Input size (MB): 0.01\n",
      "Forward/backward pass size (MB): 1.41\n",
      "Params size (MB): 5.98\n",
      "Estimated Total Size (MB): 7.40\n",
      "----------------------------------------------------------------\n",
      "\n",
      "Decoder output layer:\n",
      "\n",
      "----------------------------------------------------------------\n",
      "        Layer (type)               Output Shape         Param #\n",
      "================================================================\n",
      "   ConvTranspose2d-1           [-1, 32, 61, 61]           9,248\n",
      "       BatchNorm2d-2           [-1, 32, 61, 61]              64\n",
      "         LeakyReLU-3           [-1, 32, 61, 61]               0\n",
      "            Conv2d-4           [-1, 32, 30, 30]           9,248\n",
      "       BatchNorm2d-5           [-1, 32, 30, 30]              64\n",
      "         LeakyReLU-6           [-1, 32, 30, 30]               0\n",
      "            Conv2d-7            [-1, 3, 28, 28]             867\n",
      "              Tanh-8            [-1, 3, 28, 28]               0\n",
      "================================================================\n",
      "Total params: 19,491\n",
      "Trainable params: 19,491\n",
      "Non-trainable params: 0\n",
      "----------------------------------------------------------------\n",
      "Input size (MB): 0.12\n",
      "Forward/backward pass size (MB): 3.42\n",
      "Params size (MB): 0.07\n",
      "Estimated Total Size (MB): 3.62\n",
      "----------------------------------------------------------------\n"
     ]
    }
   ],
   "source": [
    "print(\"Decoder input layer:\\n\", jVAE.decoder_input)\n",
    "print(\"\\nDecoder hidden layers: \")\n",
    "summary(jVAE.cuda().decoder, (512, 2, 2))\n",
    "print(\"\\nDecoder output layer:\\n\")\n",
    "summary(jVAE.final_layer, (32, 32, 32))"
   ]
  },
  {
   "cell_type": "markdown",
   "id": "f5abfa76",
   "metadata": {},
   "source": [
    "### Conditional GAN architecture"
   ]
  },
  {
   "cell_type": "code",
   "execution_count": 94,
   "id": "f625689f",
   "metadata": {},
   "outputs": [],
   "source": [
    "# Defines generator and discriminator\n",
    "G = StandardGenerator(\n",
    "    output_size=(n_channels,32,32),\n",
    "    latent_size=latent_dims,\n",
    "    num_classes=n_classes\n",
    ")\n",
    "\n",
    "D = StandardProjectionDiscriminator(\n",
    "    input_size=(n_channels,32,32),\n",
    "    apply_sigmoid=False,\n",
    "    num_classes=n_classes\n",
    ")"
   ]
  },
  {
   "cell_type": "code",
   "execution_count": 101,
   "id": "449c2611",
   "metadata": {},
   "outputs": [
    {
     "name": "stdout",
     "output_type": "stream",
     "text": [
      "----------------------------------------------------------------\n",
      "        Layer (type)               Output Shape         Param #\n",
      "================================================================\n",
      "   ConvTranspose2d-1            [-1, 256, 4, 4]         409,856\n",
      "       BatchNorm2d-2            [-1, 256, 4, 4]               0\n",
      "         Embedding-3               [-1, 1, 256]           2,304\n",
      "         Embedding-4               [-1, 1, 256]           2,304\n",
      "ConditionalBatchNorm2d-5            [-1, 256, 4, 4]               0\n",
      "         LeakyReLU-6            [-1, 256, 4, 4]               0\n",
      "         LeakyReLU-7            [-1, 256, 4, 4]               0\n",
      "         LeakyReLU-8            [-1, 256, 4, 4]               0\n",
      "StandardGeneratorBlock-9            [-1, 256, 4, 4]               0\n",
      "  ConvTranspose2d-10            [-1, 128, 8, 8]         524,416\n",
      "      BatchNorm2d-11            [-1, 128, 8, 8]               0\n",
      "        Embedding-12               [-1, 1, 128]           1,152\n",
      "        Embedding-13               [-1, 1, 128]           1,152\n",
      "ConditionalBatchNorm2d-14            [-1, 128, 8, 8]               0\n",
      "        LeakyReLU-15            [-1, 128, 8, 8]               0\n",
      "        LeakyReLU-16            [-1, 128, 8, 8]               0\n",
      "        LeakyReLU-17            [-1, 128, 8, 8]               0\n",
      "StandardGeneratorBlock-18            [-1, 128, 8, 8]               0\n",
      "          Dropout-19            [-1, 128, 8, 8]               0\n",
      "  ConvTranspose2d-20           [-1, 64, 16, 16]         131,136\n",
      "      BatchNorm2d-21           [-1, 64, 16, 16]               0\n",
      "        Embedding-22                [-1, 1, 64]             576\n",
      "        Embedding-23                [-1, 1, 64]             576\n",
      "ConditionalBatchNorm2d-24           [-1, 64, 16, 16]               0\n",
      "        LeakyReLU-25           [-1, 64, 16, 16]               0\n",
      "        LeakyReLU-26           [-1, 64, 16, 16]               0\n",
      "        LeakyReLU-27           [-1, 64, 16, 16]               0\n",
      "StandardGeneratorBlock-28           [-1, 64, 16, 16]               0\n",
      "          Dropout-29           [-1, 64, 16, 16]               0\n",
      "  ConvTranspose2d-30            [-1, 3, 32, 32]           3,075\n",
      "================================================================\n",
      "Total params: 1,076,547\n",
      "Trainable params: 1,076,547\n",
      "Non-trainable params: 0\n",
      "----------------------------------------------------------------\n",
      "Input size (MB): 0.00\n",
      "Forward/backward pass size (MB): 1.75\n",
      "Params size (MB): 4.11\n",
      "Estimated Total Size (MB): 5.86\n",
      "----------------------------------------------------------------\n"
     ]
    }
   ],
   "source": [
    "summary(G.cuda(), [(latent_dims,), (1,)])"
   ]
  },
  {
   "cell_type": "code",
   "execution_count": 104,
   "id": "0f504a04",
   "metadata": {},
   "outputs": [
    {
     "name": "stdout",
     "output_type": "stream",
     "text": [
      "----------------------------------------------------------------\n",
      "        Layer (type)               Output Shape         Param #\n",
      "================================================================\n",
      "            Conv2d-1           [-1, 32, 32, 32]             896\n",
      "         LeakyReLU-2           [-1, 32, 32, 32]               0\n",
      "StandardDiscriminatorBlock-3           [-1, 32, 32, 32]               0\n",
      "            Conv2d-4           [-1, 64, 16, 16]          32,832\n",
      "         LeakyReLU-5           [-1, 64, 16, 16]               0\n",
      "         LeakyReLU-6           [-1, 64, 16, 16]               0\n",
      "         LeakyReLU-7           [-1, 64, 16, 16]               0\n",
      "StandardDiscriminatorBlock-8           [-1, 64, 16, 16]               0\n",
      "           Dropout-9           [-1, 64, 16, 16]               0\n",
      "           Conv2d-10            [-1, 8, 16, 16]             512\n",
      "           Conv2d-11            [-1, 8, 16, 16]             512\n",
      "           Conv2d-12           [-1, 64, 16, 16]           4,096\n",
      "          Softmax-13             [-1, 256, 256]               0\n",
      "    SelfAttention-14           [-1, 64, 16, 16]               0\n",
      "           Conv2d-15            [-1, 128, 8, 8]         131,200\n",
      "        LeakyReLU-16            [-1, 128, 8, 8]               0\n",
      "        LeakyReLU-17            [-1, 128, 8, 8]               0\n",
      "        LeakyReLU-18            [-1, 128, 8, 8]               0\n",
      "StandardDiscriminatorBlock-19            [-1, 128, 8, 8]               0\n",
      "          Dropout-20            [-1, 128, 8, 8]               0\n",
      "           Conv2d-21            [-1, 256, 4, 4]         524,544\n",
      "        LeakyReLU-22            [-1, 256, 4, 4]               0\n",
      "        LeakyReLU-23            [-1, 256, 4, 4]               0\n",
      "        LeakyReLU-24            [-1, 256, 4, 4]               0\n",
      "StandardDiscriminatorBlock-25            [-1, 256, 4, 4]               0\n",
      "          Dropout-26            [-1, 256, 4, 4]               0\n",
      "          Flatten-27                 [-1, 4096]               0\n",
      "           Linear-28                    [-1, 1]           4,097\n",
      "        Embedding-29              [-1, 1, 4096]          36,864\n"
     ]
    },
    {
     "ename": "TypeError",
     "evalue": "can't multiply sequence by non-int of type 'tuple'",
     "output_type": "error",
     "traceback": [
      "\u001b[0;31m---------------------------------------------------------------------------\u001b[0m",
      "\u001b[0;31mTypeError\u001b[0m                                 Traceback (most recent call last)",
      "\u001b[0;32m/tmp/ipykernel_12148/4235069036.py\u001b[0m in \u001b[0;36m<module>\u001b[0;34m\u001b[0m\n\u001b[0;32m----> 1\u001b[0;31m \u001b[0msummary\u001b[0m\u001b[0;34m(\u001b[0m\u001b[0mD\u001b[0m\u001b[0;34m.\u001b[0m\u001b[0mcuda\u001b[0m\u001b[0;34m(\u001b[0m\u001b[0;34m)\u001b[0m\u001b[0;34m,\u001b[0m \u001b[0;34m[\u001b[0m\u001b[0;34m(\u001b[0m\u001b[0;36m3\u001b[0m\u001b[0;34m,\u001b[0m \u001b[0;36m32\u001b[0m\u001b[0;34m,\u001b[0m \u001b[0;36m32\u001b[0m\u001b[0;34m)\u001b[0m\u001b[0;34m,\u001b[0m \u001b[0;34m(\u001b[0m\u001b[0;36m1\u001b[0m\u001b[0;34m,\u001b[0m\u001b[0;34m)\u001b[0m\u001b[0;34m]\u001b[0m\u001b[0;34m)\u001b[0m\u001b[0;34m\u001b[0m\u001b[0;34m\u001b[0m\u001b[0m\n\u001b[0m",
      "\u001b[0;32m~/anaconda3/envs/ML_base/lib/python3.9/site-packages/torchsummary/torchsummary.py\u001b[0m in \u001b[0;36msummary\u001b[0;34m(model, input_size, batch_size, device)\u001b[0m\n\u001b[1;32m     98\u001b[0m \u001b[0;34m\u001b[0m\u001b[0m\n\u001b[1;32m     99\u001b[0m     \u001b[0;31m# assume 4 bytes/number (float on cuda).\u001b[0m\u001b[0;34m\u001b[0m\u001b[0;34m\u001b[0m\u001b[0m\n\u001b[0;32m--> 100\u001b[0;31m     \u001b[0mtotal_input_size\u001b[0m \u001b[0;34m=\u001b[0m \u001b[0mabs\u001b[0m\u001b[0;34m(\u001b[0m\u001b[0mnp\u001b[0m\u001b[0;34m.\u001b[0m\u001b[0mprod\u001b[0m\u001b[0;34m(\u001b[0m\u001b[0minput_size\u001b[0m\u001b[0;34m)\u001b[0m \u001b[0;34m*\u001b[0m \u001b[0mbatch_size\u001b[0m \u001b[0;34m*\u001b[0m \u001b[0;36m4.\u001b[0m \u001b[0;34m/\u001b[0m \u001b[0;34m(\u001b[0m\u001b[0;36m1024\u001b[0m \u001b[0;34m**\u001b[0m \u001b[0;36m2.\u001b[0m\u001b[0;34m)\u001b[0m\u001b[0;34m)\u001b[0m\u001b[0;34m\u001b[0m\u001b[0;34m\u001b[0m\u001b[0m\n\u001b[0m\u001b[1;32m    101\u001b[0m     \u001b[0mtotal_output_size\u001b[0m \u001b[0;34m=\u001b[0m \u001b[0mabs\u001b[0m\u001b[0;34m(\u001b[0m\u001b[0;36m2.\u001b[0m \u001b[0;34m*\u001b[0m \u001b[0mtotal_output\u001b[0m \u001b[0;34m*\u001b[0m \u001b[0;36m4.\u001b[0m \u001b[0;34m/\u001b[0m \u001b[0;34m(\u001b[0m\u001b[0;36m1024\u001b[0m \u001b[0;34m**\u001b[0m \u001b[0;36m2.\u001b[0m\u001b[0;34m)\u001b[0m\u001b[0;34m)\u001b[0m  \u001b[0;31m# x2 for gradients\u001b[0m\u001b[0;34m\u001b[0m\u001b[0;34m\u001b[0m\u001b[0m\n\u001b[1;32m    102\u001b[0m     \u001b[0mtotal_params_size\u001b[0m \u001b[0;34m=\u001b[0m \u001b[0mabs\u001b[0m\u001b[0;34m(\u001b[0m\u001b[0mtotal_params\u001b[0m\u001b[0;34m.\u001b[0m\u001b[0mnumpy\u001b[0m\u001b[0;34m(\u001b[0m\u001b[0;34m)\u001b[0m \u001b[0;34m*\u001b[0m \u001b[0;36m4.\u001b[0m \u001b[0;34m/\u001b[0m \u001b[0;34m(\u001b[0m\u001b[0;36m1024\u001b[0m \u001b[0;34m**\u001b[0m \u001b[0;36m2.\u001b[0m\u001b[0;34m)\u001b[0m\u001b[0;34m)\u001b[0m\u001b[0;34m\u001b[0m\u001b[0;34m\u001b[0m\u001b[0m\n",
      "\u001b[0;32m<__array_function__ internals>\u001b[0m in \u001b[0;36mprod\u001b[0;34m(*args, **kwargs)\u001b[0m\n",
      "\u001b[0;32m~/anaconda3/envs/ML_base/lib/python3.9/site-packages/numpy/core/fromnumeric.py\u001b[0m in \u001b[0;36mprod\u001b[0;34m(a, axis, dtype, out, keepdims, initial, where)\u001b[0m\n\u001b[1;32m   2997\u001b[0m     \u001b[0;36m10\u001b[0m\u001b[0;34m\u001b[0m\u001b[0;34m\u001b[0m\u001b[0m\n\u001b[1;32m   2998\u001b[0m     \"\"\"\n\u001b[0;32m-> 2999\u001b[0;31m     return _wrapreduction(a, np.multiply, 'prod', axis, dtype, out,\n\u001b[0m\u001b[1;32m   3000\u001b[0m                           keepdims=keepdims, initial=initial, where=where)\n\u001b[1;32m   3001\u001b[0m \u001b[0;34m\u001b[0m\u001b[0m\n",
      "\u001b[0;32m~/anaconda3/envs/ML_base/lib/python3.9/site-packages/numpy/core/fromnumeric.py\u001b[0m in \u001b[0;36m_wrapreduction\u001b[0;34m(obj, ufunc, method, axis, dtype, out, **kwargs)\u001b[0m\n\u001b[1;32m     85\u001b[0m                 \u001b[0;32mreturn\u001b[0m \u001b[0mreduction\u001b[0m\u001b[0;34m(\u001b[0m\u001b[0maxis\u001b[0m\u001b[0;34m=\u001b[0m\u001b[0maxis\u001b[0m\u001b[0;34m,\u001b[0m \u001b[0mout\u001b[0m\u001b[0;34m=\u001b[0m\u001b[0mout\u001b[0m\u001b[0;34m,\u001b[0m \u001b[0;34m**\u001b[0m\u001b[0mpasskwargs\u001b[0m\u001b[0;34m)\u001b[0m\u001b[0;34m\u001b[0m\u001b[0;34m\u001b[0m\u001b[0m\n\u001b[1;32m     86\u001b[0m \u001b[0;34m\u001b[0m\u001b[0m\n\u001b[0;32m---> 87\u001b[0;31m     \u001b[0;32mreturn\u001b[0m \u001b[0mufunc\u001b[0m\u001b[0;34m.\u001b[0m\u001b[0mreduce\u001b[0m\u001b[0;34m(\u001b[0m\u001b[0mobj\u001b[0m\u001b[0;34m,\u001b[0m \u001b[0maxis\u001b[0m\u001b[0;34m,\u001b[0m \u001b[0mdtype\u001b[0m\u001b[0;34m,\u001b[0m \u001b[0mout\u001b[0m\u001b[0;34m,\u001b[0m \u001b[0;34m**\u001b[0m\u001b[0mpasskwargs\u001b[0m\u001b[0;34m)\u001b[0m\u001b[0;34m\u001b[0m\u001b[0;34m\u001b[0m\u001b[0m\n\u001b[0m\u001b[1;32m     88\u001b[0m \u001b[0;34m\u001b[0m\u001b[0m\n\u001b[1;32m     89\u001b[0m \u001b[0;34m\u001b[0m\u001b[0m\n",
      "\u001b[0;31mTypeError\u001b[0m: can't multiply sequence by non-int of type 'tuple'"
     ]
    }
   ],
   "source": [
    "summary(D.cuda(), [(n_classes, 32, 32), (1,)])"
   ]
  },
  {
   "cell_type": "code",
   "execution_count": null,
   "id": "c9468140",
   "metadata": {},
   "outputs": [],
   "source": []
  }
 ],
 "metadata": {
  "kernelspec": {
   "display_name": "Python [conda env:ML_base]",
   "language": "python",
   "name": "conda-env-ML_base-py"
  },
  "language_info": {
   "codemirror_mode": {
    "name": "ipython",
    "version": 3
   },
   "file_extension": ".py",
   "mimetype": "text/x-python",
   "name": "python",
   "nbconvert_exporter": "python",
   "pygments_lexer": "ipython3",
   "version": "3.9.7"
  }
 },
 "nbformat": 4,
 "nbformat_minor": 5
}
